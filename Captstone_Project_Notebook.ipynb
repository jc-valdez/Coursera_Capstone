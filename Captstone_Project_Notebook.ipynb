{
    "cells": [
        {
            "cell_type": "code",
            "execution_count": 2,
            "metadata": {},
            "outputs": [],
            "source": "# Instructions\n# 1. Write some markdown to explain that this notebook will be mainly used for the capstone project.\n# 2. Import the pandas library as pd.\n# 3. Import the Numpy library as np.\n# 4. Print the following the statement: Hello Capstone Project Course!"
        },
        {
            "cell_type": "markdown",
            "metadata": {},
            "source": "# This notebook will be mainly used for the capstone project."
        },
        {
            "cell_type": "code",
            "execution_count": 1,
            "metadata": {},
            "outputs": [],
            "source": "# 2. Import the pandas library as pd.\n# 3. Import the Numpy library as np.\nimport pandas as pd\nimport numpy as np\n\n# 4. Print the following the statement: Hello Capstone Project Course!\nprint(\"Hello Capstone Project Course\")"
        }
    ],
    "metadata": {
        "kernelspec": {
            "display_name": "Python 3.6",
            "language": "python",
            "name": "python3"
        },
        "language_info": {
            "codemirror_mode": {
                "name": "ipython",
                "version": 3
            },
            "file_extension": ".py",
            "mimetype": "text/x-python",
            "name": "python",
            "nbconvert_exporter": "python",
            "pygments_lexer": "ipython3",
            "version": "3.6.9"
        }
    },
    "nbformat": 4,
    "nbformat_minor": 1
}